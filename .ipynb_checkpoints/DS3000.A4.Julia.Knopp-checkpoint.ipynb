{
 "cells": [
  {
   "cell_type": "markdown",
   "metadata": {},
   "source": [
    "# DS 3000 - Assignment 4\n",
    "\n",
    "**Student Name**: Julia Knopp\n",
    "\n",
    "**Date**: 9/25/23\n",
    "\n",
    "\n",
    "### Submission Instructions\n",
    "Submit this `ipynb` file to canvas.\n",
    "\n",
    "The `ipynb` format stores outputs from the last time you ran the notebook.  (When you open a notebook it has the figures and outputs of the last time you ran it too).  To ensure that your submitted `ipynb` file represents your latest code, make sure to give a fresh run `Kernel > Restart & Run All` just before uploading the `ipynb` file to Canvas.\n",
    "\n",
    "### Academic Integrity\n",
    "\n",
    "**Writing your homework is an individual effort.**  You may discuss general python problems with other students but under no circumstances should you observe another student's code which was written for this assignment, from this year or past years.  Pop into office hours or DM us in MS Teams if you have a specific question about your work or if you would like another pair of eyes or talk through your code.\n",
    "\n",
    "Don't forget to cite websites which helped you solve a problem in a unique way.  You can do this in markdown near the code or with a simple one-line comment. You do not need to cite the official python documentation.\n",
    "\n",
    "**Documentation / style counts for credit**  Please refer to the Pep-8 style, to improve the readability and consistency of your Python code. For more information, read the following article [How to Write Beautiful Python Code With PEP 8](https://realpython.com/python-pep8/) or ask your TA's for tips.\n",
    "\n",
    "**NOTE:<span style='color:red'> Write python expressions to answer ALL questions below and ensure that you use the `print()` function to display the output.</span>** Each question should be answered in a new code cell. For example, your solution for question 1.1 should be in a different code cell from your solution for question 1.2."
   ]
  },
  {
   "cell_type": "code",
   "execution_count": 75,
   "metadata": {},
   "outputs": [],
   "source": [
    "#import libraries\n",
    "import pandas as pd"
   ]
  },
  {
   "cell_type": "markdown",
   "metadata": {},
   "source": [
    "## Data Science Problem (50 pts)\n",
    "### Instructions\n",
    "\n",
    "You are hired as a Data Scientist for the NYC Taxi and Limousine Commission (TLC) and this company routinely collects trip data from all licensed cabs in NY. Your team would like to use this data in the future to understand how New Yorkers use these taxis. Your first assignment is to **analyze the data of the Green Taxis, and determine if its a viable source.**\n",
    "\n",
    "Your supervisor has requested that you perform your analysis using data from February 2020 and would like for you to present your findings during the next team meeting. Use a Jupyter notebook to explain your data wrangling and analytical steps to your colleagues. \n",
    "\n",
    "**Data & Documentation**\n",
    "\n",
    "- **Data Source:** https://d37ci6vzurychx.cloudfront.net/trip-data/green_tripdata_2020-02.parquet\n",
    "- **Data Dictionary:** [Green Trips Data Dictionary](https://www1.nyc.gov/assets/tlc/downloads/pdf/data_dictionary_trip_records_green.pdf).\n",
    "\n",
    "The TLC trip record data and a description of the initiative can be found at the following link: https://www1.nyc.gov/site/tlc/about/tlc-trip-record-data.page\n",
    "\n",
    "**`Note:`** Ensure that you explain the results from each question.\n",
    "\n",
    "\n",
    "**In this assignment you will use the Pandas library. Pandas allows us to load data that's stored in a various formats, e.g. excel, csv, txt, parquet, etc. In this assignment, you will learn to read data in parquet format which is one of the preferred formats when working with `Big Data`. [Click here to learn more about parquet files](https://towardsdatascience.com/csv-files-for-storage-no-thanks-theres-a-better-option-72c78a414d1d)**\n",
    "\n",
    "I also provided starter code below to help you to read the data in parquet format. First, you'll need to install a new library called *fastparquet*."
   ]
  },
  {
   "cell_type": "code",
   "execution_count": 76,
   "metadata": {},
   "outputs": [
    {
     "name": "stdout",
     "output_type": "stream",
     "text": [
      "Requirement already satisfied: fastparquet in /Users/juliaknopp/opt/anaconda3/lib/python3.9/site-packages (2023.8.0)\n",
      "Requirement already satisfied: numpy>=1.20.3 in /Users/juliaknopp/opt/anaconda3/lib/python3.9/site-packages (from fastparquet) (1.26.0)\n",
      "Requirement already satisfied: cramjam>=2.3 in /Users/juliaknopp/opt/anaconda3/lib/python3.9/site-packages (from fastparquet) (2.7.0)\n",
      "Requirement already satisfied: fsspec in /Users/juliaknopp/opt/anaconda3/lib/python3.9/site-packages (from fastparquet) (2022.7.1)\n",
      "Requirement already satisfied: pandas>=1.5.0 in /Users/juliaknopp/opt/anaconda3/lib/python3.9/site-packages (from fastparquet) (2.1.1)\n",
      "Requirement already satisfied: packaging in /Users/juliaknopp/opt/anaconda3/lib/python3.9/site-packages (from fastparquet) (21.3)\n",
      "Requirement already satisfied: pytz>=2020.1 in /Users/juliaknopp/opt/anaconda3/lib/python3.9/site-packages (from pandas>=1.5.0->fastparquet) (2022.1)\n",
      "Requirement already satisfied: python-dateutil>=2.8.2 in /Users/juliaknopp/opt/anaconda3/lib/python3.9/site-packages (from pandas>=1.5.0->fastparquet) (2.8.2)\n",
      "Requirement already satisfied: tzdata>=2022.1 in /Users/juliaknopp/opt/anaconda3/lib/python3.9/site-packages (from pandas>=1.5.0->fastparquet) (2023.3)\n",
      "Requirement already satisfied: pyparsing!=3.0.5,>=2.0.2 in /Users/juliaknopp/opt/anaconda3/lib/python3.9/site-packages (from packaging->fastparquet) (3.0.9)\n",
      "Requirement already satisfied: six>=1.5 in /Users/juliaknopp/opt/anaconda3/lib/python3.9/site-packages (from python-dateutil>=2.8.2->pandas>=1.5.0->fastparquet) (1.16.0)\n"
     ]
    }
   ],
   "source": [
    "#run this cell to install the fast parquet library\n",
    "!pip install fastparquet"
   ]
  },
  {
   "cell_type": "markdown",
   "metadata": {},
   "source": [
    "## 1. Load the data\n",
    "Load the NYC Green Taxi Trip Records data directly from the URL into a data frame called tripdata_df. "
   ]
  },
  {
   "cell_type": "code",
   "execution_count": 77,
   "metadata": {},
   "outputs": [],
   "source": [
    "#let's load the data into a dataframe\n",
    "\n",
    "tripdata_df = pd.read_parquet(path = 'green_tripdata_2020-02.parquet', #provide the URL to the data source\n",
    "                      engine = 'fastparquet')\n",
    "\n",
    "#Note: you'll notice two new things. 1) We are using a new function called `read_parquet()` which indicates that we are \n",
    "#      reading data in parquet format. 2) We used the fastparquet library as the engine. \n",
    "#      That's it! Pandas will load the data into a dataframe. You can now use the dataframe for EDA.\n",
    "\n",
    "# Reminder: How does Pandas read other file formats?\n",
    "# 1. Excel files: pd.read_excel()\n",
    "# 2. CSV Files: pd.read_csv()\n",
    "# ... and now you know how to read parquet files using pd.read_parquet()\n"
   ]
  },
  {
   "cell_type": "markdown",
   "metadata": {},
   "source": [
    "## 2. Inspect the Data (3 pts) \n",
    "Inspect the data to: 1) identify its dimensions, and 2) indicate if the variables have suitable types."
   ]
  },
  {
   "cell_type": "code",
   "execution_count": 78,
   "metadata": {},
   "outputs": [
    {
     "name": "stdout",
     "output_type": "stream",
     "text": [
      "<class 'pandas.core.frame.DataFrame'>\n",
      "RangeIndex: 398632 entries, 0 to 398631\n",
      "Data columns (total 20 columns):\n",
      " #   Column                 Non-Null Count   Dtype         \n",
      "---  ------                 --------------   -----         \n",
      " 0   VendorID               398632 non-null  int64         \n",
      " 1   lpep_pickup_datetime   398632 non-null  datetime64[ns]\n",
      " 2   lpep_dropoff_datetime  398632 non-null  datetime64[ns]\n",
      " 3   store_and_fwd_flag     317739 non-null  object        \n",
      " 4   RatecodeID             317739 non-null  float64       \n",
      " 5   PULocationID           398632 non-null  int64         \n",
      " 6   DOLocationID           398632 non-null  int64         \n",
      " 7   passenger_count        317739 non-null  float64       \n",
      " 8   trip_distance          398632 non-null  float64       \n",
      " 9   fare_amount            398632 non-null  float64       \n",
      " 10  extra                  398632 non-null  float64       \n",
      " 11  mta_tax                398632 non-null  float64       \n",
      " 12  tip_amount             398632 non-null  float64       \n",
      " 13  tolls_amount           398632 non-null  float64       \n",
      " 14  ehail_fee              0 non-null       float64       \n",
      " 15  improvement_surcharge  398632 non-null  float64       \n",
      " 16  total_amount           398632 non-null  float64       \n",
      " 17  payment_type           317739 non-null  float64       \n",
      " 18  trip_type              317738 non-null  float64       \n",
      " 19  congestion_surcharge   317739 non-null  float64       \n",
      "dtypes: datetime64[ns](2), float64(14), int64(3), object(1)\n",
      "memory usage: 60.8+ MB\n"
     ]
    },
    {
     "data": {
      "text/plain": [
       "(398632, 20)"
      ]
     },
     "execution_count": 78,
     "metadata": {},
     "output_type": "execute_result"
    }
   ],
   "source": [
    "#show properties of the data frame\n",
    "tripdata_df.info()\n",
    "\n",
    "#view the number of observations and variables (dimensions)\n",
    "tripdata_df.shape"
   ]
  },
  {
   "cell_type": "markdown",
   "metadata": {},
   "source": [
    "The dimensions of the dataframe are 20 variables (columns) with 398632 entries (rows).\n",
    "\n",
    "It appears that the data has suitable types. One possiblity I noticed that could be modified is the passenger_count variable can be represented by an int rather than a float since it will always be represented by a whole number. Additionally, the other categorical data such as ratecodeID, payment_type, and trip_type can also be represented by integers rather than floats."
   ]
  },
  {
   "cell_type": "markdown",
   "metadata": {},
   "source": [
    "## 3. Missing Values (5 pts) \n",
    "Evaluate the frequency of missing values in the dataset. Are missing values an isolated case or a widespread issue? What method would you recommend to handle missing data?"
   ]
  },
  {
   "cell_type": "code",
   "execution_count": 79,
   "metadata": {},
   "outputs": [],
   "source": [
    "# want to find the number of missing values for each columns\n",
    "missing_values = tripdata_df.isna().sum()"
   ]
  },
  {
   "cell_type": "markdown",
   "metadata": {},
   "source": [
    "It appears that the missing values are both isolated and widespread.\n",
    "It is isolated in that the ehail_fee column is completely empty and contains no values.\n",
    "For the other columns that are missing values, it seems that this may be related as they are all missing approximately the same amount of data. It appears that after a certain number of inputs, the observations do not contain certain variables, the six columns (it may be worth mentioning that these are almost all categorical data)\n",
    "1. store_and_fwd_flag\n",
    "2. RatecodeID\n",
    "3. passenger_count\n",
    "4. payment_type\n",
    "5. trip_type\n",
    "6. congestion_surcharge\n",
    "\n",
    "To handle missing data, when the issue is not widespread, imputation is a method to fill in missing data.\n",
    "For the variables that contain categorical data, data can be filled in through using the mode.\n",
    "For variables that contain continuous data, data can be filled in through use of mean or median.\n",
    "When the issue is widespread, however, it may be best to delete the specific data alltogether."
   ]
  },
  {
   "cell_type": "markdown",
   "metadata": {},
   "source": [
    "## 4. Types of Data (5 pts) \n",
    "Are there any categorical data in this dataset. If they exist, identify at least two variables and indicate if  they are nominal or ordinal (hint: read the data dictionary above which describes all field in the data)"
   ]
  },
  {
   "cell_type": "markdown",
   "metadata": {},
   "source": [
    "Yes there is categorical data in the dataset.\n",
    "\n",
    "Payment_type is one variable that is categorical and is an example of nominal data. The possible categories for this variable are credit card, cash, no charge, etc., the possibilities do not follow any kind of ordering scale, therefore this is an example of nominal categorical data.\n",
    "\n",
    "RateCodeID is another example of categorical data. This variable measures the rate code in effect at the end of the trip. This is an example of an ordinal variable because traveling to a further zone make the ride more expensive.\n",
    "\n"
   ]
  },
  {
   "cell_type": "markdown",
   "metadata": {},
   "source": [
    "## 5. Invalid Data (5 pts) \n",
    "Explore the data to determine if there are any invalid values. Demonstrate at least three issues that you found."
   ]
  },
  {
   "cell_type": "markdown",
   "metadata": {},
   "source": [
    "While looking through the data, there are some potential issues I found:\n",
    "\n",
    "1. Something I noticed was that the cost of a ride was negative, which doesn't make sense regarding the context of the data.\n",
    "\n",
    "2. Another thing I noticed was that there is a ride where the passenger count was 0, which does not make sense because there should be a passenger for a ride.\n",
    "\n",
    "3. For RatecodeID, I noticed a value that falls out of the 1-6 category range, meaning that the value does not corespond to one of the categories mentioned in the data dictionary."
   ]
  },
  {
   "cell_type": "markdown",
   "metadata": {},
   "source": [
    "## 6. Data Preparation (15 pts) \n",
    "Based on the issues that you identified in questions 2, 3 & 5 above, perform the appropriate steps to clean the data and prepare the data for analysis. \n"
   ]
  },
  {
   "cell_type": "code",
   "execution_count": 80,
   "metadata": {},
   "outputs": [],
   "source": [
    "# handle invalid data\n",
    "# delete data where the passenger_count is less than one\n",
    "tripdata_df = tripdata_df[tripdata_df['passenger_count'] >= 1]\n",
    "# delete data where the trip_cost is negative\n",
    "tripdata_df = tripdata_df[tripdata_df['fare_amount'] >= 0]\n",
    "# delete data where the total_amount is negative\n",
    "tripdata_df = tripdata_df[tripdata_df['total_amount'] >= 0]\n",
    "# delete data where RatecodeID is not a value 1, 2, 3, 4, 5, 6\n",
    "tripdata_df = tripdata_df[tripdata_df['RatecodeID'] <= 6]\n",
    "\n",
    "# handle missing values\n",
    "# drop the ehail fee column\n",
    "tripdata_df.drop(columns=['ehail_fee'])\n",
    "# fill in data for columns missing values\n",
    "# get mode value for rate code\n",
    "ratecode_mode = tripdata_df['RatecodeID'].mode()[0]\n",
    "# fill NA values in the ratecode column with the mode\n",
    "tripdata_df['RatecodeID'].fillna(ratecode_mode, inplace=True)\n",
    "# get median passenger count\n",
    "passenger_median = tripdata_df['passenger_count'].median()\n",
    "# fill the null values in passenger count with the median\n",
    "tripdata_df['passenger_count'].fillna(passenger_median, inplace=True)\n",
    "# get mode of payment type\n",
    "payment_mode = tripdata_df['payment_type'].mode()[0]\n",
    "# replace null values for payment type with the mode\n",
    "tripdata_df['payment_type'].fillna(payment_mode, inplace=True)\n",
    "# get mode of trip type\n",
    "trip_type_mode = tripdata_df['trip_type'].mode()[0]\n",
    "# replace null values for trip type with the mode\n",
    "tripdata_df['trip_type'].fillna(trip_type_mode, inplace=True)\n",
    "# get median congestion surcharge\n",
    "median_surcharge = tripdata_df['congestion_surcharge'].median()\n",
    "# fill the null congestion surcharge values with the average surcharge\n",
    "tripdata_df['congestion_surcharge'].fillna(median_surcharge, inplace=True)\n",
    "\n",
    "# data type conversions\n",
    "# change data type of passenger count from float to int\n",
    "tripdata_df['passenger_count'] = tripdata_df['passenger_count'].astype(int)\n",
    "# change data type of ratecodeID from float to int\n",
    "tripdata_df['RatecodeID'] = tripdata_df['RatecodeID'].astype(int)\n",
    "# change data type of payment type from float to int\n",
    "tripdata_df['payment_type'] = tripdata_df['payment_type'].astype(int)\n",
    "# change data type of trip type from float to int\n",
    "tripdata_df['trip_type'] = tripdata_df['trip_type'].astype(int)\n"
   ]
  },
  {
   "cell_type": "markdown",
   "metadata": {},
   "source": [
    "## 7. Data Analysis (10 pts)\n",
    "Answer the following question using the prepared data. What is the most expensive and least expensive trip in this dataset and how far did they travel? Explain the results."
   ]
  },
  {
   "cell_type": "code",
   "execution_count": 84,
   "metadata": {},
   "outputs": [
    {
     "name": "stdout",
     "output_type": "stream",
     "text": [
      "The most expensive trip taken (total cost) was : 651.5\n",
      "The least expensive trip taken (total cost) was : 0.0\n",
      "The distance of the most expensive trip was: 1.1\n",
      "The distance of the least expensive trip was: 3.94\n"
     ]
    }
   ],
   "source": [
    "# find the most expenisve trip by looking at the maximum value in the ...\n",
    "most_expensive = tripdata_df['total_amount'].max()\n",
    "# find the most expenisve trip by looking at the minimum value in the ...\n",
    "least_expensive = tripdata_df['total_amount'].min()\n",
    "\n",
    "# find the most expensive trip info\n",
    "most_expensive_trip = tripdata_df[tripdata_df['total_amount'] == most_expensive]\n",
    "# get the distance of the most expensive trip\n",
    "most_expensive_trip_distance = most_expensive_trip['trip_distance'].values[0]\n",
    "\n",
    "# find the least expensive trip info\n",
    "least_expensive_trip = tripdata_df[tripdata_df['total_amount'] == least_expensive]\n",
    "# get the distance of the least expensive trip\n",
    "least_expensive_trip_distance = least_expensive_trip['trip_distance'].values[0]\n",
    "\n",
    "# print the findings\n",
    "print('The most expensive trip taken (total cost) was :', most_expensive)\n",
    "print('The least expensive trip taken (total cost) was :', least_expensive)\n",
    "print('The distance of the most expensive trip was:', most_expensive_trip_distance)\n",
    "print('The distance of the least expensive trip was:', least_expensive_trip_distance)"
   ]
  },
  {
   "cell_type": "markdown",
   "metadata": {},
   "source": [
    "Based on the results:\n",
    "The most expensive trip taken had a total cost of 651.50 where they traveled 1.1 miles.\n",
    "The least expensive trip taken was 0.00 where 3.94 miles were traveled."
   ]
  },
  {
   "cell_type": "markdown",
   "metadata": {},
   "source": [
    "## 8. Data Visualization (5 pts) \n",
    "Create bar charts that show: 1) the most common way that New Yorkers request/hail a cab and 2) the most common drop-off location (display the top 5 locations). Explain the charts."
   ]
  },
  {
   "cell_type": "code",
   "execution_count": 82,
   "metadata": {},
   "outputs": [
    {
     "data": {
      "text/plain": [
       "<AxesSubplot:xlabel='Trip Type: Street Hail v. Dispatch'>"
      ]
     },
     "execution_count": 82,
     "metadata": {},
     "output_type": "execute_result"
    },
    {
     "data": {
      "image/png": "[encoded data removed]",
      "text/plain": [
       "<Figure size 640x480 with 1 Axes>"
      ]
     },
     "metadata": {},
     "output_type": "display_data"
    }
   ],
   "source": [
    "# count how many of each unique value there are\n",
    "value_counts = tripdata_df['trip_type'].value_counts()\n",
    "# display the bar chart\n",
    "type_counts.plot(kind='bar', xlabel='Trip Type: Street Hail v. Dispatch')"
   ]
  },
  {
   "cell_type": "markdown",
   "metadata": {},
   "source": [
    "This bar chart visualizes that the method of street hailing a cab is far more popular than the dispatch method."
   ]
  },
  {
   "cell_type": "code",
   "execution_count": 83,
   "metadata": {},
   "outputs": [
    {
     "data": {
      "text/plain": [
       "<AxesSubplot:xlabel='Most Common Dropoff Locations'>"
      ]
     },
     "execution_count": 83,
     "metadata": {},
     "output_type": "execute_result"
    },
    {
     "data": {
      "image/png": "[encoded data removed]",
      "text/plain": [
       "<Figure size 640x480 with 1 Axes>"
      ]
     },
     "metadata": {},
     "output_type": "display_data"
    }
   ],
   "source": [
    "# count the frequency of each dropoff location\n",
    "value_counts = tripdata_df['DOLocationID'].value_counts()\n",
    "# get the top five most common dropoff locations\n",
    "top_do_loc = value_counts.nlargest(5)\n",
    "# plot the top five most common dropoff loactions\n",
    "top_do_loc.plot(kind='bar', xlabel='Most Common Dropoff Locations')"
   ]
  },
  {
   "cell_type": "markdown",
   "metadata": {},
   "source": [
    "According to the bar chart, the most common dropoff locations are as follows:\n",
    "1. 74\n",
    "2. 42\n",
    "3. 41\n",
    "4. 75\n",
    "5. 129\n",
    "\n",
    "Through referencing the data dictionary, these values correspond to where the TLC Taxi Zone where the taximeter was disengaged."
   ]
  },
  {
   "cell_type": "markdown",
   "metadata": {},
   "source": [
    "## 9. Findings (2 pts)\n",
    "Based on the preliminary analysis, is this data a viable source that can be used by your team in the future to understand how New Yorkers use these taxis? Justify your response."
   ]
  },
  {
   "cell_type": "markdown",
   "metadata": {},
   "source": [
    "I do believe the data is a viable course that can be used in the future to understand how New Yorkers use taxis. While there were definitely some issues in the data, through data analysis and preparation, the data was still able to tell us a lot about how New Yorkers commute with the taxi system. Although there were some issues with the data, I feel that there is still a lot of reliable information that can be extracted and analyzed."
   ]
  }
 ],
 "metadata": {
  "kernelspec": {
   "display_name": "Python 3 (ipykernel)",
   "language": "python",
   "name": "python3"
  },
  "language_info": {
   "codemirror_mode": {
    "name": "ipython",
    "version": 3
   },
   "file_extension": ".py",
   "mimetype": "text/x-python",
   "name": "python",
   "nbconvert_exporter": "python",
   "pygments_lexer": "ipython3",
   "version": "3.9.13"
  }
 },
 "nbformat": 4,
 "nbformat_minor": 4
}
